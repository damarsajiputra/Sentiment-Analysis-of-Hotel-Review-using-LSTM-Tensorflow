{
 "cells": [
  {
   "cell_type": "markdown",
   "metadata": {},
   "source": [
    "# TripAdvisor Hotel Review - Sentiment Analysis"
   ]
  },
  {
   "cell_type": "markdown",
   "metadata": {},
   "source": [
    ">by: damarsa\n",
    ">>source of dataset: https://www.kaggle.com/datasets/andrewmvd/trip-advisor-hotel-reviews/data"
   ]
  },
  {
   "cell_type": "code",
   "execution_count": 1,
   "metadata": {},
   "outputs": [],
   "source": [
    "import pandas as pd"
   ]
  },
  {
   "cell_type": "code",
   "execution_count": 2,
   "metadata": {},
   "outputs": [
    {
     "data": {
      "text/html": [
       "<div>\n",
       "<style scoped>\n",
       "    .dataframe tbody tr th:only-of-type {\n",
       "        vertical-align: middle;\n",
       "    }\n",
       "\n",
       "    .dataframe tbody tr th {\n",
       "        vertical-align: top;\n",
       "    }\n",
       "\n",
       "    .dataframe thead th {\n",
       "        text-align: right;\n",
       "    }\n",
       "</style>\n",
       "<table border=\"1\" class=\"dataframe\">\n",
       "  <thead>\n",
       "    <tr style=\"text-align: right;\">\n",
       "      <th></th>\n",
       "      <th>Review</th>\n",
       "      <th>Rating</th>\n",
       "    </tr>\n",
       "  </thead>\n",
       "  <tbody>\n",
       "    <tr>\n",
       "      <th>0</th>\n",
       "      <td>nice hotel expensive parking got good deal sta...</td>\n",
       "      <td>4</td>\n",
       "    </tr>\n",
       "    <tr>\n",
       "      <th>1</th>\n",
       "      <td>ok nothing special charge diamond member hilto...</td>\n",
       "      <td>2</td>\n",
       "    </tr>\n",
       "    <tr>\n",
       "      <th>2</th>\n",
       "      <td>nice rooms not 4* experience hotel monaco seat...</td>\n",
       "      <td>3</td>\n",
       "    </tr>\n",
       "    <tr>\n",
       "      <th>3</th>\n",
       "      <td>unique, great stay, wonderful time hotel monac...</td>\n",
       "      <td>5</td>\n",
       "    </tr>\n",
       "    <tr>\n",
       "      <th>4</th>\n",
       "      <td>great stay great stay, went seahawk game aweso...</td>\n",
       "      <td>5</td>\n",
       "    </tr>\n",
       "    <tr>\n",
       "      <th>...</th>\n",
       "      <td>...</td>\n",
       "      <td>...</td>\n",
       "    </tr>\n",
       "    <tr>\n",
       "      <th>20486</th>\n",
       "      <td>best kept secret 3rd time staying charm, not 5...</td>\n",
       "      <td>5</td>\n",
       "    </tr>\n",
       "    <tr>\n",
       "      <th>20487</th>\n",
       "      <td>great location price view hotel great quick pl...</td>\n",
       "      <td>4</td>\n",
       "    </tr>\n",
       "    <tr>\n",
       "      <th>20488</th>\n",
       "      <td>ok just looks nice modern outside, desk staff ...</td>\n",
       "      <td>2</td>\n",
       "    </tr>\n",
       "    <tr>\n",
       "      <th>20489</th>\n",
       "      <td>hotel theft ruined vacation hotel opened sept ...</td>\n",
       "      <td>1</td>\n",
       "    </tr>\n",
       "    <tr>\n",
       "      <th>20490</th>\n",
       "      <td>people talking, ca n't believe excellent ratin...</td>\n",
       "      <td>2</td>\n",
       "    </tr>\n",
       "  </tbody>\n",
       "</table>\n",
       "<p>20491 rows × 2 columns</p>\n",
       "</div>"
      ],
      "text/plain": [
       "                                                  Review  Rating\n",
       "0      nice hotel expensive parking got good deal sta...       4\n",
       "1      ok nothing special charge diamond member hilto...       2\n",
       "2      nice rooms not 4* experience hotel monaco seat...       3\n",
       "3      unique, great stay, wonderful time hotel monac...       5\n",
       "4      great stay great stay, went seahawk game aweso...       5\n",
       "...                                                  ...     ...\n",
       "20486  best kept secret 3rd time staying charm, not 5...       5\n",
       "20487  great location price view hotel great quick pl...       4\n",
       "20488  ok just looks nice modern outside, desk staff ...       2\n",
       "20489  hotel theft ruined vacation hotel opened sept ...       1\n",
       "20490  people talking, ca n't believe excellent ratin...       2\n",
       "\n",
       "[20491 rows x 2 columns]"
      ]
     },
     "execution_count": 2,
     "metadata": {},
     "output_type": "execute_result"
    }
   ],
   "source": [
    "df = pd.read_csv(\"hotel_reviews.csv\")\n",
    "df"
   ]
  },
  {
   "cell_type": "code",
   "execution_count": 3,
   "metadata": {},
   "outputs": [
    {
     "name": "stdout",
     "output_type": "stream",
     "text": [
      "<class 'pandas.core.frame.DataFrame'>\n",
      "RangeIndex: 20491 entries, 0 to 20490\n",
      "Data columns (total 2 columns):\n",
      " #   Column  Non-Null Count  Dtype \n",
      "---  ------  --------------  ----- \n",
      " 0   Review  20491 non-null  object\n",
      " 1   Rating  20491 non-null  int64 \n",
      "dtypes: int64(1), object(1)\n",
      "memory usage: 320.3+ KB\n"
     ]
    }
   ],
   "source": [
    "df.info()"
   ]
  },
  {
   "cell_type": "code",
   "execution_count": 4,
   "metadata": {},
   "outputs": [
    {
     "data": {
      "text/html": [
       "<div>\n",
       "<style scoped>\n",
       "    .dataframe tbody tr th:only-of-type {\n",
       "        vertical-align: middle;\n",
       "    }\n",
       "\n",
       "    .dataframe tbody tr th {\n",
       "        vertical-align: top;\n",
       "    }\n",
       "\n",
       "    .dataframe thead th {\n",
       "        text-align: right;\n",
       "    }\n",
       "</style>\n",
       "<table border=\"1\" class=\"dataframe\">\n",
       "  <thead>\n",
       "    <tr style=\"text-align: right;\">\n",
       "      <th></th>\n",
       "      <th>Rating</th>\n",
       "    </tr>\n",
       "  </thead>\n",
       "  <tbody>\n",
       "    <tr>\n",
       "      <th>count</th>\n",
       "      <td>20491.00</td>\n",
       "    </tr>\n",
       "    <tr>\n",
       "      <th>mean</th>\n",
       "      <td>3.95</td>\n",
       "    </tr>\n",
       "    <tr>\n",
       "      <th>std</th>\n",
       "      <td>1.23</td>\n",
       "    </tr>\n",
       "    <tr>\n",
       "      <th>min</th>\n",
       "      <td>1.00</td>\n",
       "    </tr>\n",
       "    <tr>\n",
       "      <th>25%</th>\n",
       "      <td>3.00</td>\n",
       "    </tr>\n",
       "    <tr>\n",
       "      <th>50%</th>\n",
       "      <td>4.00</td>\n",
       "    </tr>\n",
       "    <tr>\n",
       "      <th>75%</th>\n",
       "      <td>5.00</td>\n",
       "    </tr>\n",
       "    <tr>\n",
       "      <th>max</th>\n",
       "      <td>5.00</td>\n",
       "    </tr>\n",
       "  </tbody>\n",
       "</table>\n",
       "</div>"
      ],
      "text/plain": [
       "         Rating\n",
       "count  20491.00\n",
       "mean       3.95\n",
       "std        1.23\n",
       "min        1.00\n",
       "25%        3.00\n",
       "50%        4.00\n",
       "75%        5.00\n",
       "max        5.00"
      ]
     },
     "execution_count": 4,
     "metadata": {},
     "output_type": "execute_result"
    }
   ],
   "source": [
    "df.describe().round(2)"
   ]
  },
  {
   "cell_type": "code",
   "execution_count": 5,
   "metadata": {},
   "outputs": [
    {
     "name": "stdout",
     "output_type": "stream",
     "text": [
      "Dupilacate data(s) : 0 data\n"
     ]
    }
   ],
   "source": [
    "duplicates = df.duplicated().sum()\n",
    "print(f'Dupilacate data(s) : {duplicates} data')"
   ]
  },
  {
   "cell_type": "code",
   "execution_count": 6,
   "metadata": {},
   "outputs": [],
   "source": [
    "import seaborn as sns\n",
    "import matplotlib.pyplot as plt"
   ]
  },
  {
   "cell_type": "code",
   "execution_count": 7,
   "metadata": {},
   "outputs": [
    {
     "name": "stderr",
     "output_type": "stream",
     "text": [
      "C:\\Users\\asus\\AppData\\Local\\Packages\\PythonSoftwareFoundation.Python.3.11_qbz5n2kfra8p0\\LocalCache\\local-packages\\Python311\\site-packages\\seaborn\\_core.py:1218: FutureWarning: is_categorical_dtype is deprecated and will be removed in a future version. Use isinstance(dtype, CategoricalDtype) instead\n",
      "  if pd.api.types.is_categorical_dtype(vector):\n",
      "C:\\Users\\asus\\AppData\\Local\\Packages\\PythonSoftwareFoundation.Python.3.11_qbz5n2kfra8p0\\LocalCache\\local-packages\\Python311\\site-packages\\seaborn\\_core.py:1218: FutureWarning: is_categorical_dtype is deprecated and will be removed in a future version. Use isinstance(dtype, CategoricalDtype) instead\n",
      "  if pd.api.types.is_categorical_dtype(vector):\n",
      "C:\\Users\\asus\\AppData\\Local\\Packages\\PythonSoftwareFoundation.Python.3.11_qbz5n2kfra8p0\\LocalCache\\local-packages\\Python311\\site-packages\\seaborn\\_core.py:1218: FutureWarning: is_categorical_dtype is deprecated and will be removed in a future version. Use isinstance(dtype, CategoricalDtype) instead\n",
      "  if pd.api.types.is_categorical_dtype(vector):\n"
     ]
    },
    {
     "data": {
      "image/png": "[encoded data removed]",
      "text/plain": [
       "<Figure size 640x480 with 1 Axes>"
      ]
     },
     "metadata": {},
     "output_type": "display_data"
    }
   ],
   "source": [
    "plt.figure()\n",
    "ax = sns.countplot(x='Rating', data=df, palette='rainbow_r')\n",
    "ax.set_yticks(range(0, df['Rating'].value_counts().max()+1000, 1000))\n",
    "for i in ax.patches:\n",
    "    ax.annotate(f'{i.get_height()}', (i.get_x() + i.get_width() / 2., i.get_height()), \n",
    "                ha='center', va='center', xytext=(0, 10), textcoords='offset points')\n",
    "plt.title('Rating Distribution', fontweight='bold')\n",
    "plt.xlabel('Rating')\n",
    "plt.ylabel('Count')\n",
    "plt.grid(axis='y')\n",
    "plt.show()"
   ]
  },
  {
   "cell_type": "code",
   "execution_count": 8,
   "metadata": {},
   "outputs": [
    {
     "data": {
      "text/html": [
       "<div>\n",
       "<style scoped>\n",
       "    .dataframe tbody tr th:only-of-type {\n",
       "        vertical-align: middle;\n",
       "    }\n",
       "\n",
       "    .dataframe tbody tr th {\n",
       "        vertical-align: top;\n",
       "    }\n",
       "\n",
       "    .dataframe thead th {\n",
       "        text-align: right;\n",
       "    }\n",
       "</style>\n",
       "<table border=\"1\" class=\"dataframe\">\n",
       "  <thead>\n",
       "    <tr style=\"text-align: right;\">\n",
       "      <th></th>\n",
       "      <th>Review</th>\n",
       "      <th>Rating</th>\n",
       "      <th>Sentiment</th>\n",
       "    </tr>\n",
       "  </thead>\n",
       "  <tbody>\n",
       "    <tr>\n",
       "      <th>0</th>\n",
       "      <td>nice hotel expensive parking got good deal sta...</td>\n",
       "      <td>4</td>\n",
       "      <td>positive</td>\n",
       "    </tr>\n",
       "    <tr>\n",
       "      <th>1</th>\n",
       "      <td>ok nothing special charge diamond member hilto...</td>\n",
       "      <td>2</td>\n",
       "      <td>negative</td>\n",
       "    </tr>\n",
       "    <tr>\n",
       "      <th>2</th>\n",
       "      <td>nice rooms not 4* experience hotel monaco seat...</td>\n",
       "      <td>3</td>\n",
       "      <td>neutral</td>\n",
       "    </tr>\n",
       "    <tr>\n",
       "      <th>3</th>\n",
       "      <td>unique, great stay, wonderful time hotel monac...</td>\n",
       "      <td>5</td>\n",
       "      <td>positive</td>\n",
       "    </tr>\n",
       "    <tr>\n",
       "      <th>4</th>\n",
       "      <td>great stay great stay, went seahawk game aweso...</td>\n",
       "      <td>5</td>\n",
       "      <td>positive</td>\n",
       "    </tr>\n",
       "    <tr>\n",
       "      <th>...</th>\n",
       "      <td>...</td>\n",
       "      <td>...</td>\n",
       "      <td>...</td>\n",
       "    </tr>\n",
       "    <tr>\n",
       "      <th>20486</th>\n",
       "      <td>best kept secret 3rd time staying charm, not 5...</td>\n",
       "      <td>5</td>\n",
       "      <td>positive</td>\n",
       "    </tr>\n",
       "    <tr>\n",
       "      <th>20487</th>\n",
       "      <td>great location price view hotel great quick pl...</td>\n",
       "      <td>4</td>\n",
       "      <td>positive</td>\n",
       "    </tr>\n",
       "    <tr>\n",
       "      <th>20488</th>\n",
       "      <td>ok just looks nice modern outside, desk staff ...</td>\n",
       "      <td>2</td>\n",
       "      <td>negative</td>\n",
       "    </tr>\n",
       "    <tr>\n",
       "      <th>20489</th>\n",
       "      <td>hotel theft ruined vacation hotel opened sept ...</td>\n",
       "      <td>1</td>\n",
       "      <td>negative</td>\n",
       "    </tr>\n",
       "    <tr>\n",
       "      <th>20490</th>\n",
       "      <td>people talking, ca n't believe excellent ratin...</td>\n",
       "      <td>2</td>\n",
       "      <td>negative</td>\n",
       "    </tr>\n",
       "  </tbody>\n",
       "</table>\n",
       "<p>20491 rows × 3 columns</p>\n",
       "</div>"
      ],
      "text/plain": [
       "                                                  Review  Rating Sentiment\n",
       "0      nice hotel expensive parking got good deal sta...       4  positive\n",
       "1      ok nothing special charge diamond member hilto...       2  negative\n",
       "2      nice rooms not 4* experience hotel monaco seat...       3   neutral\n",
       "3      unique, great stay, wonderful time hotel monac...       5  positive\n",
       "4      great stay great stay, went seahawk game aweso...       5  positive\n",
       "...                                                  ...     ...       ...\n",
       "20486  best kept secret 3rd time staying charm, not 5...       5  positive\n",
       "20487  great location price view hotel great quick pl...       4  positive\n",
       "20488  ok just looks nice modern outside, desk staff ...       2  negative\n",
       "20489  hotel theft ruined vacation hotel opened sept ...       1  negative\n",
       "20490  people talking, ca n't believe excellent ratin...       2  negative\n",
       "\n",
       "[20491 rows x 3 columns]"
      ]
     },
     "execution_count": 8,
     "metadata": {},
     "output_type": "execute_result"
    }
   ],
   "source": [
    "def label_sentiment(rating):\n",
    "    if rating <= 2:\n",
    "        return 'negative'\n",
    "    if rating == 3:\n",
    "        return 'neutral'\n",
    "    if rating >= 4:\n",
    "        return 'positive'\n",
    "\n",
    "df['Sentiment'] = df['Rating'].apply(label_sentiment)\n",
    "df"
   ]
  },
  {
   "cell_type": "code",
   "execution_count": 9,
   "metadata": {},
   "outputs": [
    {
     "data": {
      "text/plain": [
       "Sentiment\n",
       "positive    15093\n",
       "negative     3214\n",
       "neutral      2184\n",
       "Name: count, dtype: int64"
      ]
     },
     "execution_count": 9,
     "metadata": {},
     "output_type": "execute_result"
    }
   ],
   "source": [
    "df['Sentiment'].value_counts()"
   ]
  },
  {
   "cell_type": "code",
   "execution_count": 10,
   "metadata": {},
   "outputs": [
    {
     "name": "stderr",
     "output_type": "stream",
     "text": [
      "C:\\Users\\asus\\AppData\\Local\\Packages\\PythonSoftwareFoundation.Python.3.11_qbz5n2kfra8p0\\LocalCache\\local-packages\\Python311\\site-packages\\seaborn\\_core.py:1218: FutureWarning: is_categorical_dtype is deprecated and will be removed in a future version. Use isinstance(dtype, CategoricalDtype) instead\n",
      "  if pd.api.types.is_categorical_dtype(vector):\n",
      "C:\\Users\\asus\\AppData\\Local\\Packages\\PythonSoftwareFoundation.Python.3.11_qbz5n2kfra8p0\\LocalCache\\local-packages\\Python311\\site-packages\\seaborn\\_core.py:1218: FutureWarning: is_categorical_dtype is deprecated and will be removed in a future version. Use isinstance(dtype, CategoricalDtype) instead\n",
      "  if pd.api.types.is_categorical_dtype(vector):\n"
     ]
    },
    {
     "data": {
      "image/png": "[encoded data removed]",
      "text/plain": [
       "<Figure size 640x480 with 1 Axes>"
      ]
     },
     "metadata": {},
     "output_type": "display_data"
    }
   ],
   "source": [
    "plt.figure()\n",
    "ax = sns.countplot(x='Sentiment', data=df, palette='rainbow_r', order=['negative', 'neutral', 'positive'])\n",
    "ax.set_yticks(range(0, df['Sentiment'].value_counts().max()+2000, 2000))\n",
    "for i in ax.patches:\n",
    "    ax.annotate(f'{i.get_height()}', (i.get_x() + i.get_width() / 2., i.get_height()), \n",
    "                ha='center', va='center', xytext=(0, 10), textcoords='offset points')\n",
    "plt.title('Sentiment Distribution', fontweight='bold')\n",
    "plt.xlabel('Sentiment')\n",
    "plt.ylabel('Count')\n",
    "plt.grid(axis='y')\n",
    "plt.show()"
   ]
  },
  {
   "cell_type": "code",
   "execution_count": 11,
   "metadata": {},
   "outputs": [
    {
     "data": {
      "text/html": [
       "<div>\n",
       "<style scoped>\n",
       "    .dataframe tbody tr th:only-of-type {\n",
       "        vertical-align: middle;\n",
       "    }\n",
       "\n",
       "    .dataframe tbody tr th {\n",
       "        vertical-align: top;\n",
       "    }\n",
       "\n",
       "    .dataframe thead th {\n",
       "        text-align: right;\n",
       "    }\n",
       "</style>\n",
       "<table border=\"1\" class=\"dataframe\">\n",
       "  <thead>\n",
       "    <tr style=\"text-align: right;\">\n",
       "      <th></th>\n",
       "      <th>Review</th>\n",
       "      <th>Rating</th>\n",
       "      <th>Sentiment</th>\n",
       "    </tr>\n",
       "  </thead>\n",
       "  <tbody>\n",
       "    <tr>\n",
       "      <th>0</th>\n",
       "      <td>nice hotel expensive parking got good deal sta...</td>\n",
       "      <td>4</td>\n",
       "      <td>2</td>\n",
       "    </tr>\n",
       "    <tr>\n",
       "      <th>1</th>\n",
       "      <td>ok nothing special charge diamond member hilto...</td>\n",
       "      <td>2</td>\n",
       "      <td>0</td>\n",
       "    </tr>\n",
       "    <tr>\n",
       "      <th>2</th>\n",
       "      <td>nice rooms not 4* experience hotel monaco seat...</td>\n",
       "      <td>3</td>\n",
       "      <td>1</td>\n",
       "    </tr>\n",
       "    <tr>\n",
       "      <th>3</th>\n",
       "      <td>unique, great stay, wonderful time hotel monac...</td>\n",
       "      <td>5</td>\n",
       "      <td>2</td>\n",
       "    </tr>\n",
       "    <tr>\n",
       "      <th>4</th>\n",
       "      <td>great stay great stay, went seahawk game aweso...</td>\n",
       "      <td>5</td>\n",
       "      <td>2</td>\n",
       "    </tr>\n",
       "    <tr>\n",
       "      <th>...</th>\n",
       "      <td>...</td>\n",
       "      <td>...</td>\n",
       "      <td>...</td>\n",
       "    </tr>\n",
       "    <tr>\n",
       "      <th>20486</th>\n",
       "      <td>best kept secret 3rd time staying charm, not 5...</td>\n",
       "      <td>5</td>\n",
       "      <td>2</td>\n",
       "    </tr>\n",
       "    <tr>\n",
       "      <th>20487</th>\n",
       "      <td>great location price view hotel great quick pl...</td>\n",
       "      <td>4</td>\n",
       "      <td>2</td>\n",
       "    </tr>\n",
       "    <tr>\n",
       "      <th>20488</th>\n",
       "      <td>ok just looks nice modern outside, desk staff ...</td>\n",
       "      <td>2</td>\n",
       "      <td>0</td>\n",
       "    </tr>\n",
       "    <tr>\n",
       "      <th>20489</th>\n",
       "      <td>hotel theft ruined vacation hotel opened sept ...</td>\n",
       "      <td>1</td>\n",
       "      <td>0</td>\n",
       "    </tr>\n",
       "    <tr>\n",
       "      <th>20490</th>\n",
       "      <td>people talking, ca n't believe excellent ratin...</td>\n",
       "      <td>2</td>\n",
       "      <td>0</td>\n",
       "    </tr>\n",
       "  </tbody>\n",
       "</table>\n",
       "<p>20491 rows × 3 columns</p>\n",
       "</div>"
      ],
      "text/plain": [
       "                                                  Review  Rating  Sentiment\n",
       "0      nice hotel expensive parking got good deal sta...       4          2\n",
       "1      ok nothing special charge diamond member hilto...       2          0\n",
       "2      nice rooms not 4* experience hotel monaco seat...       3          1\n",
       "3      unique, great stay, wonderful time hotel monac...       5          2\n",
       "4      great stay great stay, went seahawk game aweso...       5          2\n",
       "...                                                  ...     ...        ...\n",
       "20486  best kept secret 3rd time staying charm, not 5...       5          2\n",
       "20487  great location price view hotel great quick pl...       4          2\n",
       "20488  ok just looks nice modern outside, desk staff ...       2          0\n",
       "20489  hotel theft ruined vacation hotel opened sept ...       1          0\n",
       "20490  people talking, ca n't believe excellent ratin...       2          0\n",
       "\n",
       "[20491 rows x 3 columns]"
      ]
     },
     "execution_count": 11,
     "metadata": {},
     "output_type": "execute_result"
    }
   ],
   "source": [
    "def sentiment_map(sentiment):\n",
    "    if sentiment == 'negative':\n",
    "        return 0\n",
    "    if sentiment == 'neutral':\n",
    "        return 1\n",
    "    if sentiment == 'positive':\n",
    "        return 2\n",
    "\n",
    "df['Sentiment'] = df['Sentiment'].apply(sentiment_map)\n",
    "df"
   ]
  },
  {
   "cell_type": "markdown",
   "metadata": {},
   "source": [
    "### Text Cleansing"
   ]
  },
  {
   "cell_type": "code",
   "execution_count": 12,
   "metadata": {},
   "outputs": [],
   "source": [
    "import re\n",
    "import contractions\n",
    "import inflect\n",
    "import nltk\n",
    "from nltk.corpus import stopwords\n",
    "from nltk.stem import WordNetLemmatizer"
   ]
  },
  {
   "cell_type": "code",
   "execution_count": 13,
   "metadata": {},
   "outputs": [
    {
     "name": "stderr",
     "output_type": "stream",
     "text": [
      "[nltk_data] Downloading package stopwords to\n",
      "[nltk_data]     C:\\Users\\asus\\AppData\\Roaming\\nltk_data...\n",
      "[nltk_data]   Package stopwords is already up-to-date!\n",
      "[nltk_data] Downloading package wordnet to\n",
      "[nltk_data]     C:\\Users\\asus\\AppData\\Roaming\\nltk_data...\n",
      "[nltk_data]   Package wordnet is already up-to-date!\n",
      "[nltk_data] Downloading package omw-1.4 to\n",
      "[nltk_data]     C:\\Users\\asus\\AppData\\Roaming\\nltk_data...\n",
      "[nltk_data]   Package omw-1.4 is already up-to-date!\n"
     ]
    },
    {
     "data": {
      "text/plain": [
       "True"
      ]
     },
     "execution_count": 13,
     "metadata": {},
     "output_type": "execute_result"
    }
   ],
   "source": [
    "nltk.download('stopwords')\n",
    "nltk.download('wordnet')\n",
    "nltk.download('omw-1.4')"
   ]
  },
  {
   "cell_type": "code",
   "execution_count": 14,
   "metadata": {},
   "outputs": [],
   "source": [
    "stop_words = set(stopwords.words('english'))\n",
    "lemmatizer = WordNetLemmatizer()\n",
    "p = inflect.engine()"
   ]
  },
  {
   "cell_type": "code",
   "execution_count": 15,
   "metadata": {},
   "outputs": [
    {
     "data": {
      "text/html": [
       "<div>\n",
       "<style scoped>\n",
       "    .dataframe tbody tr th:only-of-type {\n",
       "        vertical-align: middle;\n",
       "    }\n",
       "\n",
       "    .dataframe tbody tr th {\n",
       "        vertical-align: top;\n",
       "    }\n",
       "\n",
       "    .dataframe thead th {\n",
       "        text-align: right;\n",
       "    }\n",
       "</style>\n",
       "<table border=\"1\" class=\"dataframe\">\n",
       "  <thead>\n",
       "    <tr style=\"text-align: right;\">\n",
       "      <th></th>\n",
       "      <th>Review</th>\n",
       "      <th>Rating</th>\n",
       "      <th>Sentiment</th>\n",
       "      <th>Review_Clean</th>\n",
       "    </tr>\n",
       "  </thead>\n",
       "  <tbody>\n",
       "    <tr>\n",
       "      <th>0</th>\n",
       "      <td>nice hotel expensive parking got good deal sta...</td>\n",
       "      <td>4</td>\n",
       "      <td>2</td>\n",
       "      <td>nice hotel expensive parking got good deal sta...</td>\n",
       "    </tr>\n",
       "    <tr>\n",
       "      <th>1</th>\n",
       "      <td>ok nothing special charge diamond member hilto...</td>\n",
       "      <td>2</td>\n",
       "      <td>0</td>\n",
       "      <td>ok nothing special charge diamond member hilto...</td>\n",
       "    </tr>\n",
       "    <tr>\n",
       "      <th>2</th>\n",
       "      <td>nice rooms not 4* experience hotel monaco seat...</td>\n",
       "      <td>3</td>\n",
       "      <td>1</td>\n",
       "      <td>nice room experience hotel monaco seattle good...</td>\n",
       "    </tr>\n",
       "    <tr>\n",
       "      <th>3</th>\n",
       "      <td>unique, great stay, wonderful time hotel monac...</td>\n",
       "      <td>5</td>\n",
       "      <td>2</td>\n",
       "      <td>unique great stay wonderful time hotel monaco ...</td>\n",
       "    </tr>\n",
       "    <tr>\n",
       "      <th>4</th>\n",
       "      <td>great stay great stay, went seahawk game aweso...</td>\n",
       "      <td>5</td>\n",
       "      <td>2</td>\n",
       "      <td>great stay great stay went seahawk game awesom...</td>\n",
       "    </tr>\n",
       "    <tr>\n",
       "      <th>...</th>\n",
       "      <td>...</td>\n",
       "      <td>...</td>\n",
       "      <td>...</td>\n",
       "      <td>...</td>\n",
       "    </tr>\n",
       "    <tr>\n",
       "      <th>20486</th>\n",
       "      <td>best kept secret 3rd time staying charm, not 5...</td>\n",
       "      <td>5</td>\n",
       "      <td>2</td>\n",
       "      <td>best kept secret rd time staying charm star ca...</td>\n",
       "    </tr>\n",
       "    <tr>\n",
       "      <th>20487</th>\n",
       "      <td>great location price view hotel great quick pl...</td>\n",
       "      <td>4</td>\n",
       "      <td>2</td>\n",
       "      <td>great location price view hotel great quick pl...</td>\n",
       "    </tr>\n",
       "    <tr>\n",
       "      <th>20488</th>\n",
       "      <td>ok just looks nice modern outside, desk staff ...</td>\n",
       "      <td>2</td>\n",
       "      <td>0</td>\n",
       "      <td>ok look nice modern outside desk staff nt part...</td>\n",
       "    </tr>\n",
       "    <tr>\n",
       "      <th>20489</th>\n",
       "      <td>hotel theft ruined vacation hotel opened sept ...</td>\n",
       "      <td>1</td>\n",
       "      <td>0</td>\n",
       "      <td>hotel theft ruined vacation hotel opened sept ...</td>\n",
       "    </tr>\n",
       "    <tr>\n",
       "      <th>20490</th>\n",
       "      <td>people talking, ca n't believe excellent ratin...</td>\n",
       "      <td>2</td>\n",
       "      <td>0</td>\n",
       "      <td>people talking ca nt believe excellent rating ...</td>\n",
       "    </tr>\n",
       "  </tbody>\n",
       "</table>\n",
       "<p>20491 rows × 4 columns</p>\n",
       "</div>"
      ],
      "text/plain": [
       "                                                  Review  Rating  Sentiment  \\\n",
       "0      nice hotel expensive parking got good deal sta...       4          2   \n",
       "1      ok nothing special charge diamond member hilto...       2          0   \n",
       "2      nice rooms not 4* experience hotel monaco seat...       3          1   \n",
       "3      unique, great stay, wonderful time hotel monac...       5          2   \n",
       "4      great stay great stay, went seahawk game aweso...       5          2   \n",
       "...                                                  ...     ...        ...   \n",
       "20486  best kept secret 3rd time staying charm, not 5...       5          2   \n",
       "20487  great location price view hotel great quick pl...       4          2   \n",
       "20488  ok just looks nice modern outside, desk staff ...       2          0   \n",
       "20489  hotel theft ruined vacation hotel opened sept ...       1          0   \n",
       "20490  people talking, ca n't believe excellent ratin...       2          0   \n",
       "\n",
       "                                            Review_Clean  \n",
       "0      nice hotel expensive parking got good deal sta...  \n",
       "1      ok nothing special charge diamond member hilto...  \n",
       "2      nice room experience hotel monaco seattle good...  \n",
       "3      unique great stay wonderful time hotel monaco ...  \n",
       "4      great stay great stay went seahawk game awesom...  \n",
       "...                                                  ...  \n",
       "20486  best kept secret rd time staying charm star ca...  \n",
       "20487  great location price view hotel great quick pl...  \n",
       "20488  ok look nice modern outside desk staff nt part...  \n",
       "20489  hotel theft ruined vacation hotel opened sept ...  \n",
       "20490  people talking ca nt believe excellent rating ...  \n",
       "\n",
       "[20491 rows x 4 columns]"
      ]
     },
     "execution_count": 15,
     "metadata": {},
     "output_type": "execute_result"
    }
   ],
   "source": [
    "def text_clean(text):\n",
    "    text = text.lower()\n",
    "    text = contractions.fix(text)\n",
    "    text = ' '.join([p.number_to_words(word) if word.isdigit() else word for word in text.split()])\n",
    "    text = re.sub(r'[^a-z\\s]', '', text)\n",
    "    text = re.sub(r'\\d+', '', text)\n",
    "    text = ' '.join([word for word in text.split() if word not in stop_words])\n",
    "    text = ' '.join([lemmatizer.lemmatize(word) for word in text.split()])\n",
    "    return text\n",
    "\n",
    "df['Review_Clean'] = df['Review'].apply(text_clean)\n",
    "df"
   ]
  },
  {
   "cell_type": "markdown",
   "metadata": {},
   "source": [
    "#### Word Count"
   ]
  },
  {
   "cell_type": "code",
   "execution_count": 16,
   "metadata": {},
   "outputs": [],
   "source": [
    "from sklearn.feature_extraction.text import CountVectorizer"
   ]
  },
  {
   "cell_type": "code",
   "execution_count": 17,
   "metadata": {},
   "outputs": [],
   "source": [
    "neg_reviews = df[df['Sentiment'] == 0]\n",
    "neu_reviews = df[df['Sentiment'] == 1]\n",
    "pos_reviews = df[df['Sentiment'] == 2]\n",
    "\n",
    "neg_text = ' '.join(neg_reviews['Review_Clean'].tolist())\n",
    "neu_text = ' '.join(neu_reviews['Review_Clean'].tolist())\n",
    "pos_text = ' '.join(pos_reviews['Review_Clean'].tolist())"
   ]
  },
  {
   "cell_type": "code",
   "execution_count": 18,
   "metadata": {},
   "outputs": [],
   "source": [
    "vectorizer = CountVectorizer().fit([neg_text, neu_text, pos_text])\n",
    "\n",
    "neg_freq = pd.DataFrame(vectorizer.transform([neg_text]).toarray(), columns=vectorizer.get_feature_names_out()).T\n",
    "neu_freq = pd.DataFrame(vectorizer.transform([neu_text]).toarray(), columns=vectorizer.get_feature_names_out()).T\n",
    "pos_freq = pd.DataFrame(vectorizer.transform([pos_text]).toarray(), columns=vectorizer.get_feature_names_out()).T\n",
    "\n",
    "neg_freq.columns = ['Negative']\n",
    "neu_freq.columns = ['Neutral']\n",
    "pos_freq.columns = ['Positive']"
   ]
  },
  {
   "cell_type": "code",
   "execution_count": 19,
   "metadata": {},
   "outputs": [
    {
     "name": "stdout",
     "output_type": "stream",
     "text": [
      "Top 25 words for Negative Sentiment:\n",
      "            Negative\n",
      "room            9809\n",
      "hotel           8500\n",
      "nt              4036\n",
      "day             2757\n",
      "night           2709\n",
      "stay            2614\n",
      "time            2266\n",
      "staff           2261\n",
      "service         2177\n",
      "good            2113\n",
      "resort          1808\n",
      "food            1728\n",
      "like            1724\n",
      "beach           1571\n",
      "bed             1550\n",
      "place           1529\n",
      "stayed          1500\n",
      "got             1473\n",
      "nice            1420\n",
      "told            1399\n",
      "people          1397\n",
      "desk            1379\n",
      "two             1335\n",
      "restaurant      1298\n",
      "great           1229\n"
     ]
    }
   ],
   "source": [
    "freq_df = neg_freq.join([neu_freq, pos_freq]).sort_values(by='Positive', ascending=False)\n",
    "\n",
    "print(\"Top 25 words for Negative Sentiment:\")\n",
    "print(neg_freq.sort_values(by='Negative', ascending=False).head(25))"
   ]
  },
  {
   "cell_type": "code",
   "execution_count": 20,
   "metadata": {},
   "outputs": [
    {
     "name": "stdout",
     "output_type": "stream",
     "text": [
      "Top 25 words for Neutral Sentiment:\n",
      "            Neutral\n",
      "room           5930\n",
      "hotel          5518\n",
      "nt             2592\n",
      "good           2467\n",
      "great          1754\n",
      "night          1752\n",
      "nice           1747\n",
      "day            1490\n",
      "staff          1481\n",
      "location       1436\n",
      "stay           1433\n",
      "time           1429\n",
      "beach          1319\n",
      "resort         1222\n",
      "food           1195\n",
      "service        1167\n",
      "clean          1159\n",
      "like           1136\n",
      "restaurant     1133\n",
      "stayed         1101\n",
      "pool           1099\n",
      "place          1041\n",
      "breakfast      1035\n",
      "small           947\n",
      "area            947\n"
     ]
    }
   ],
   "source": [
    "print(\"Top 25 words for Neutral Sentiment:\")\n",
    "print(neu_freq.sort_values(by='Neutral', ascending=False).head(25))"
   ]
  },
  {
   "cell_type": "code",
   "execution_count": 21,
   "metadata": {},
   "outputs": [
    {
     "name": "stdout",
     "output_type": "stream",
     "text": [
      "Top 25 words for Positive Sentiment:\n",
      "            Positive\n",
      "hotel          38938\n",
      "room           30639\n",
      "great          18115\n",
      "staff          12538\n",
      "good           12475\n",
      "nt             12379\n",
      "stay           11294\n",
      "night           9623\n",
      "nice            9245\n",
      "time            8916\n",
      "location        8856\n",
      "day             8715\n",
      "stayed          7868\n",
      "restaurant      7661\n",
      "breakfast       7552\n",
      "clean           7307\n",
      "service         7194\n",
      "beach           7157\n",
      "place           6811\n",
      "food            6336\n",
      "pool            5911\n",
      "resort          5898\n",
      "really          5701\n",
      "friendly        5578\n",
      "excellent       5392\n"
     ]
    }
   ],
   "source": [
    "print(\"Top 25 words for Positive Sentiment:\")\n",
    "print(pos_freq.sort_values(by='Positive', ascending=False).head(25))"
   ]
  },
  {
   "cell_type": "code",
   "execution_count": 22,
   "metadata": {},
   "outputs": [
    {
     "name": "stdout",
     "output_type": "stream",
     "text": [
      "Top 25 Quadgrams for Negative Sentiment:\n",
      "[('room king size bed', 14), ('punta cana dominican republic', 7), ('riu palace punta cana', 7), ('grand flamenco punta cana', 7), ('good review trip advisor', 6), ('nt waste time money', 5), ('good thing say hotel', 5), ('good thing hotel location', 5), ('day went guest service', 5), ('air conditioning nt work', 5), ('twentyfour hour room service', 5), ('deluxe harbour view room', 5), ('cut long story short', 5), ('went desk complain told', 4), ('high speed internet access', 4), ('room th floor room', 4), ('night second night complimentary', 4), ('review trip advisor booked', 4), ('given room th floor', 4), ('room th floor overlooking', 4), ('told hotel overbooked room', 4), ('best thing hotel location', 4), ('staff friendly room clean', 4), ('nob hill motor inn', 4), ('told room nt ready', 4)]\n",
      "\n",
      "Top 25 Quadgrams for Neutral Sentiment:\n",
      "[('ca nt beat location', 9), ('best thing hotel location', 8), ('ca nt beat price', 7), ('hotel good location stayed', 7), ('ride old san juan', 7), ('tea coffee making facility', 7), ('staff friendly helpful room', 7), ('good location stayed night', 6), ('great location good value', 6), ('hotel great location room', 5), ('question feel free email', 5), ('staff friendly spoke english', 5), ('minute walk central station', 5), ('min walk train station', 5), ('south east asia hotel', 5), ('make sure ask room', 4), ('room king size bed', 4), ('room nicely decorated clean', 4), ('location hotel great location', 4), ('good value money stayed', 4), ('clean staff friendly helpful', 4), ('location stayed hotel night', 4), ('barcelo bavaro beach resort', 4), ('requested king size bed', 4), ('old san juan condado', 4)]\n",
      "\n",
      "Top 25 Quadgrams for Positive Sentiment:\n",
      "[('great hotel great location', 106), ('staff friendly helpful room', 79), ('hotel staff friendly helpful', 67), ('ca nt wait return', 60), ('staff extremely friendly helpful', 51), ('hotel great location stayed', 49), ('location ca nt beat', 41), ('ca nt beat location', 32), ('great location walking distance', 31), ('tea coffee making facility', 31), ('great hotel great hotel', 30), ('great location minute walk', 29), ('ca nt say good', 29), ('th floor great view', 28), ('nice hotel great location', 28), ('room king size bed', 28), ('hotel stayed hotel night', 28), ('clean staff friendly helpful', 27), ('hotel good value money', 26), ('great location great hotel', 25), ('hotel great value money', 25), ('nt say good thing', 24), ('great location stayed hotel', 24), ('minute walk train station', 24), ('friendly helpful room clean', 23)]\n"
     ]
    }
   ],
   "source": [
    "def get_top_n_grams(corpus, ngram_range=(4,4), n=None):\n",
    "    vec = CountVectorizer(ngram_range=ngram_range, stop_words='english').fit(corpus)\n",
    "    bag_of_words = vec.transform(corpus)\n",
    "    sum_words = bag_of_words.sum(axis=0) \n",
    "    words_freq = [(word, sum_words[0, idx]) for word, idx in vec.vocabulary_.items()]\n",
    "    words_freq = sorted(words_freq, key=lambda x: x[1], reverse=True)\n",
    "    return words_freq[:n]\n",
    "\n",
    "# Generate quadgrams for each sentiment\n",
    "top_quadgrams_negative = get_top_n_grams(neg_reviews['Review_Clean'], ngram_range=(4,4), n=25)\n",
    "top_quadgrams_neutral = get_top_n_grams(neu_reviews['Review_Clean'], ngram_range=(4,4), n=25)\n",
    "top_quadgrams_positive = get_top_n_grams(pos_reviews['Review_Clean'], ngram_range=(4,4), n=25)\n",
    "\n",
    "# Print the results\n",
    "print(\"Top 25 Quadgrams for Negative Sentiment:\")\n",
    "print(top_quadgrams_negative)\n",
    "\n",
    "print(\"\\nTop 25 Quadgrams for Neutral Sentiment:\")\n",
    "print(top_quadgrams_neutral)\n",
    "\n",
    "print(\"\\nTop 25 Quadgrams for Positive Sentiment:\")\n",
    "print(top_quadgrams_positive)"
   ]
  },
  {
   "cell_type": "code",
   "execution_count": 23,
   "metadata": {},
   "outputs": [
    {
     "data": {
      "text/html": [
       "<div>\n",
       "<style scoped>\n",
       "    .dataframe tbody tr th:only-of-type {\n",
       "        vertical-align: middle;\n",
       "    }\n",
       "\n",
       "    .dataframe tbody tr th {\n",
       "        vertical-align: top;\n",
       "    }\n",
       "\n",
       "    .dataframe thead th {\n",
       "        text-align: right;\n",
       "    }\n",
       "</style>\n",
       "<table border=\"1\" class=\"dataframe\">\n",
       "  <thead>\n",
       "    <tr style=\"text-align: right;\">\n",
       "      <th></th>\n",
       "      <th>Review</th>\n",
       "      <th>Rating</th>\n",
       "      <th>Sentiment</th>\n",
       "      <th>Review_Clean</th>\n",
       "    </tr>\n",
       "  </thead>\n",
       "  <tbody>\n",
       "    <tr>\n",
       "      <th>1</th>\n",
       "      <td>ok nothing special charge diamond member hilto...</td>\n",
       "      <td>2</td>\n",
       "      <td>0</td>\n",
       "      <td>ok nothing special charge diamond member hilto...</td>\n",
       "    </tr>\n",
       "    <tr>\n",
       "      <th>10</th>\n",
       "      <td>poor value stayed monaco seattle july, nice ho...</td>\n",
       "      <td>2</td>\n",
       "      <td>0</td>\n",
       "      <td>poor value stayed monaco seattle july nice hot...</td>\n",
       "    </tr>\n",
       "    <tr>\n",
       "      <th>15</th>\n",
       "      <td>horrible customer service hotel stay february ...</td>\n",
       "      <td>1</td>\n",
       "      <td>0</td>\n",
       "      <td>horrible customer service hotel stay february ...</td>\n",
       "    </tr>\n",
       "    <tr>\n",
       "      <th>16</th>\n",
       "      <td>disappointed say anticipating stay hotel monac...</td>\n",
       "      <td>2</td>\n",
       "      <td>0</td>\n",
       "      <td>disappointed say anticipating stay hotel monac...</td>\n",
       "    </tr>\n",
       "    <tr>\n",
       "      <th>24</th>\n",
       "      <td>great location need internally upgrade advanta...</td>\n",
       "      <td>2</td>\n",
       "      <td>0</td>\n",
       "      <td>great location need internally upgrade advanta...</td>\n",
       "    </tr>\n",
       "    <tr>\n",
       "      <th>...</th>\n",
       "      <td>...</td>\n",
       "      <td>...</td>\n",
       "      <td>...</td>\n",
       "      <td>...</td>\n",
       "    </tr>\n",
       "    <tr>\n",
       "      <th>20484</th>\n",
       "      <td>deceptive staff deceptive desk staff claiming ...</td>\n",
       "      <td>2</td>\n",
       "      <td>0</td>\n",
       "      <td>deceptive staff deceptive desk staff claiming ...</td>\n",
       "    </tr>\n",
       "    <tr>\n",
       "      <th>20485</th>\n",
       "      <td>not impressed unfriendly staff checked asked h...</td>\n",
       "      <td>2</td>\n",
       "      <td>0</td>\n",
       "      <td>impressed unfriendly staff checked asked highe...</td>\n",
       "    </tr>\n",
       "    <tr>\n",
       "      <th>20488</th>\n",
       "      <td>ok just looks nice modern outside, desk staff ...</td>\n",
       "      <td>2</td>\n",
       "      <td>0</td>\n",
       "      <td>ok look nice modern outside desk staff nt part...</td>\n",
       "    </tr>\n",
       "    <tr>\n",
       "      <th>20489</th>\n",
       "      <td>hotel theft ruined vacation hotel opened sept ...</td>\n",
       "      <td>1</td>\n",
       "      <td>0</td>\n",
       "      <td>hotel theft ruined vacation hotel opened sept ...</td>\n",
       "    </tr>\n",
       "    <tr>\n",
       "      <th>20490</th>\n",
       "      <td>people talking, ca n't believe excellent ratin...</td>\n",
       "      <td>2</td>\n",
       "      <td>0</td>\n",
       "      <td>people talking ca nt believe excellent rating ...</td>\n",
       "    </tr>\n",
       "  </tbody>\n",
       "</table>\n",
       "<p>3214 rows × 4 columns</p>\n",
       "</div>"
      ],
      "text/plain": [
       "                                                  Review  Rating  Sentiment  \\\n",
       "1      ok nothing special charge diamond member hilto...       2          0   \n",
       "10     poor value stayed monaco seattle july, nice ho...       2          0   \n",
       "15     horrible customer service hotel stay february ...       1          0   \n",
       "16     disappointed say anticipating stay hotel monac...       2          0   \n",
       "24     great location need internally upgrade advanta...       2          0   \n",
       "...                                                  ...     ...        ...   \n",
       "20484  deceptive staff deceptive desk staff claiming ...       2          0   \n",
       "20485  not impressed unfriendly staff checked asked h...       2          0   \n",
       "20488  ok just looks nice modern outside, desk staff ...       2          0   \n",
       "20489  hotel theft ruined vacation hotel opened sept ...       1          0   \n",
       "20490  people talking, ca n't believe excellent ratin...       2          0   \n",
       "\n",
       "                                            Review_Clean  \n",
       "1      ok nothing special charge diamond member hilto...  \n",
       "10     poor value stayed monaco seattle july nice hot...  \n",
       "15     horrible customer service hotel stay february ...  \n",
       "16     disappointed say anticipating stay hotel monac...  \n",
       "24     great location need internally upgrade advanta...  \n",
       "...                                                  ...  \n",
       "20484  deceptive staff deceptive desk staff claiming ...  \n",
       "20485  impressed unfriendly staff checked asked highe...  \n",
       "20488  ok look nice modern outside desk staff nt part...  \n",
       "20489  hotel theft ruined vacation hotel opened sept ...  \n",
       "20490  people talking ca nt believe excellent rating ...  \n",
       "\n",
       "[3214 rows x 4 columns]"
      ]
     },
     "execution_count": 23,
     "metadata": {},
     "output_type": "execute_result"
    }
   ],
   "source": [
    "df[df['Sentiment'] == 0]"
   ]
  },
  {
   "cell_type": "markdown",
   "metadata": {},
   "source": [
    "### Token and Padding"
   ]
  },
  {
   "cell_type": "code",
   "execution_count": 24,
   "metadata": {},
   "outputs": [],
   "source": [
    "from tensorflow.keras.preprocessing.text import Tokenizer\n",
    "from tensorflow.keras.preprocessing.sequence import pad_sequences"
   ]
  },
  {
   "cell_type": "code",
   "execution_count": 25,
   "metadata": {},
   "outputs": [],
   "source": [
    "tokenizer = Tokenizer(num_words=10000, oov_token=\"<OOV>\")\n",
    "tokenizer.fit_on_texts(df['Review_Clean'])\n",
    "sequences = tokenizer.texts_to_sequences(df['Review_Clean'])\n",
    "padded_sequences = pad_sequences(sequences, padding='pre', maxlen=100, truncating='pre')"
   ]
  },
  {
   "cell_type": "code",
   "execution_count": 26,
   "metadata": {},
   "outputs": [
    {
     "name": "stdout",
     "output_type": "stream",
     "text": [
      "Token Example:\n",
      "[[12, 2, 182, 228, 35, 6, 239, 8, 2, 879, 104, 241, 163, 98, 710, 484, 48, 712, 228, 96, 405, 158, 33, 308, 2980, 37, 3, 3, 20, 12, 171, 26, 56, 1949, 4920, 4487, 214, 403, 3572, 24, 449, 417, 3, 9, 82, 596, 2636, 84, 1566, 2242, 374, 29, 1092, 889, 416, 371, 2275, 2820, 309, 1327, 12, 6562, 8, 12, 406, 445, 989, 128, 855, 13, 4, 102, 205, 184, 147, 12, 78, 180, 886, 228, 9], [142, 139, 279, 277, 1490, 471, 493, 361, 823, 2263, 100, 879, 521, 346, 71, 113, 223, 174, 370, 2595, 113, 372, 38, 177, 2, 3, 98, 2723, 140, 55, 996, 123, 52, 24, 161, 1517, 3617, 55, 1025, 112, 765, 1030, 113, 2595, 3264, 370, 1184, 67, 18, 35, 3919, 1804, 1311, 610, 3, 38, 372, 1329, 3264, 1023, 113, 54, 10, 8, 276, 1664, 3920, 4921, 1264, 3264, 1330, 99, 370, 598, 856, 7980, 740, 113, 1622, 370, 140, 2595, 1080, 201, 2612, 140, 5980, 370, 55, 306, 1595, 3356, 3866, 1264, 598, 42, 99, 6158, 2148, 598, 3464, 601, 389, 1081, 1, 7, 3986, 3004, 41, 135, 55, 6, 18, 421, 718, 1, 112, 2, 1, 39, 18, 421, 521, 152, 69, 307, 2, 114, 3618, 104, 241, 9, 837, 169, 563, 340, 1381, 331, 1, 2186, 397, 203, 1, 317, 1665, 2, 3921, 100, 879, 376, 25, 1076, 165, 49, 111, 6, 35, 12, 598, 755, 24, 2548, 336, 736, 677, 1161, 2561, 3, 317, 1832, 112, 270, 4922, 403, 317, 736, 2561, 4922, 403, 4, 3, 37, 1957, 214, 2875, 156, 6, 64, 481, 7, 1555, 3, 250, 463, 118, 82, 184, 3, 35, 206, 42, 28, 73, 26, 1, 6, 1, 1202, 79, 1623, 79, 2074, 685, 269, 1134, 4572, 523, 1194, 9, 282, 2876, 5981, 1, 79, 346, 2, 20, 213, 2, 590, 214, 160, 64, 823, 2, 521]]\n",
      "\n",
      " Pading Example:\n",
      "[[   0    0    0    0    0    0    0    0    0    0    0    0    0    0\n",
      "     0    0    0    0    0   12    2  182  228   35    6  239    8    2\n",
      "   879  104  241  163   98  710  484   48  712  228   96  405  158   33\n",
      "   308 2980   37    3    3   20   12  171   26   56 1949 4920 4487  214\n",
      "   403 3572   24  449  417    3    9   82  596 2636   84 1566 2242  374\n",
      "    29 1092  889  416  371 2275 2820  309 1327   12 6562    8   12  406\n",
      "   445  989  128  855   13    4  102  205  184  147   12   78  180  886\n",
      "   228    9]\n",
      " [1381  331    1 2186  397  203    1  317 1665    2 3921  100  879  376\n",
      "    25 1076  165   49  111    6   35   12  598  755   24 2548  336  736\n",
      "   677 1161 2561    3  317 1832  112  270 4922  403  317  736 2561 4922\n",
      "   403    4    3   37 1957  214 2875  156    6   64  481    7 1555    3\n",
      "   250  463  118   82  184    3   35  206   42   28   73   26    1    6\n",
      "     1 1202   79 1623   79 2074  685  269 1134 4572  523 1194    9  282\n",
      "  2876 5981    1   79  346    2   20  213    2  590  214  160   64  823\n",
      "     2  521]]\n"
     ]
    }
   ],
   "source": [
    "print(\"Token Example:\")\n",
    "print(sequences[:2])\n",
    "\n",
    "print(\"\\n Pading Example:\")\n",
    "print(padded_sequences[:2])"
   ]
  },
  {
   "cell_type": "markdown",
   "metadata": {},
   "source": [
    "### Split Data"
   ]
  },
  {
   "cell_type": "code",
   "execution_count": 29,
   "metadata": {},
   "outputs": [],
   "source": [
    "from imblearn.over_sampling import RandomOverSampler\n",
    "from collections import Counter"
   ]
  },
  {
   "cell_type": "code",
   "execution_count": 30,
   "metadata": {},
   "outputs": [],
   "source": [
    "X = padded_sequences\n",
    "y = df['Sentiment']"
   ]
  },
  {
   "cell_type": "code",
   "execution_count": 31,
   "metadata": {},
   "outputs": [
    {
     "name": "stdout",
     "output_type": "stream",
     "text": [
      "Original class distribution: Counter({2: 15093, 0: 3214, 1: 2184})\n"
     ]
    }
   ],
   "source": [
    "print(f\"Original class distribution: {Counter(y)}\")"
   ]
  },
  {
   "cell_type": "code",
   "execution_count": 32,
   "metadata": {},
   "outputs": [
    {
     "name": "stdout",
     "output_type": "stream",
     "text": [
      "Resampled class distribution: Counter({2: 15093, 0: 15093, 1: 15093})\n"
     ]
    }
   ],
   "source": [
    "ros = RandomOverSampler(random_state=42)\n",
    "X_resampled, y_resampled = ros.fit_resample(X, y)\n",
    "print(f\"Resampled class distribution: {Counter(y_resampled)}\")"
   ]
  },
  {
   "cell_type": "code",
   "execution_count": 33,
   "metadata": {},
   "outputs": [],
   "source": [
    "from sklearn.model_selection import train_test_split"
   ]
  },
  {
   "cell_type": "code",
   "execution_count": 36,
   "metadata": {},
   "outputs": [],
   "source": [
    "X_train_val, X_test, y_train_val, y_test = train_test_split(X_resampled, y_resampled, test_size=0.3, random_state=42)"
   ]
  },
  {
   "cell_type": "code",
   "execution_count": 37,
   "metadata": {},
   "outputs": [],
   "source": [
    "X_train, X_val, y_train, y_val = train_test_split(X_train_val, y_train_val, test_size=0.35, random_state=42)"
   ]
  },
  {
   "cell_type": "code",
   "execution_count": 39,
   "metadata": {},
   "outputs": [
    {
     "name": "stdout",
     "output_type": "stream",
     "text": [
      "Shape of X_train: (20601, 100)\n",
      "Shape of X_val: (11094, 100)\n",
      "Shape of X_test: (13584, 100)\n",
      "Shape of y_train: (20601,)\n",
      "Shape of y_val: (11094,)\n",
      "Shape of y_test: (13584,)\n"
     ]
    }
   ],
   "source": [
    "print(f\"Shape of X_train: {X_train.shape}\")\n",
    "print(f\"Shape of X_val: {X_val.shape}\")\n",
    "print(f\"Shape of X_test: {X_test.shape}\")\n",
    "print(f\"Shape of y_train: {y_train.shape}\")\n",
    "print(f\"Shape of y_val: {y_val.shape}\")\n",
    "print(f\"Shape of y_test: {y_test.shape}\")"
   ]
  },
  {
   "cell_type": "markdown",
   "metadata": {},
   "source": [
    "### LSTM Model Build"
   ]
  },
  {
   "cell_type": "code",
   "execution_count": 40,
   "metadata": {},
   "outputs": [],
   "source": [
    "import tensorflow as tf\n",
    "from tensorflow.keras.models import Sequential\n",
    "from tensorflow.keras.layers import Embedding, LSTM, Dense, Dropout"
   ]
  },
  {
   "cell_type": "code",
   "execution_count": 49,
   "metadata": {},
   "outputs": [],
   "source": [
    "model = Sequential([\n",
    "    Embedding(input_dim=10000, output_dim=64, input_length=100),\n",
    "    LSTM(64, return_sequences=True),\n",
    "    Dropout(0.5),\n",
    "    LSTM(64),\n",
    "    Dense(64, activation='relu'),\n",
    "    Dropout(0.5),\n",
    "    Dense(3, activation='softmax') \n",
    "    ])"
   ]
  },
  {
   "cell_type": "code",
   "execution_count": 50,
   "metadata": {},
   "outputs": [],
   "source": [
    "model.compile(optimizer='adam', loss='sparse_categorical_crossentropy', metrics=['accuracy'])"
   ]
  },
  {
   "cell_type": "code",
   "execution_count": 51,
   "metadata": {},
   "outputs": [
    {
     "name": "stdout",
     "output_type": "stream",
     "text": [
      "Epoch 1/10\n",
      "\u001b[1m644/644\u001b[0m \u001b[32m━━━━━━━━━━━━━━━━━━━━\u001b[0m\u001b[37m\u001b[0m \u001b[1m105s\u001b[0m 147ms/step - accuracy: 0.5718 - loss: 0.8572 - val_accuracy: 0.8368 - val_loss: 0.4445\n",
      "Epoch 2/10\n",
      "\u001b[1m644/644\u001b[0m \u001b[32m━━━━━━━━━━━━━━━━━━━━\u001b[0m\u001b[37m\u001b[0m \u001b[1m69s\u001b[0m 106ms/step - accuracy: 0.8826 - loss: 0.3450 - val_accuracy: 0.9027 - val_loss: 0.3098\n",
      "Epoch 3/10\n",
      "\u001b[1m644/644\u001b[0m \u001b[32m━━━━━━━━━━━━━━━━━━━━\u001b[0m\u001b[37m\u001b[0m \u001b[1m78s\u001b[0m 121ms/step - accuracy: 0.9474 - loss: 0.1723 - val_accuracy: 0.9047 - val_loss: 0.3358\n",
      "Epoch 4/10\n",
      "\u001b[1m644/644\u001b[0m \u001b[32m━━━━━━━━━━━━━━━━━━━━\u001b[0m\u001b[37m\u001b[0m \u001b[1m77s\u001b[0m 120ms/step - accuracy: 0.9713 - loss: 0.0993 - val_accuracy: 0.9088 - val_loss: 0.3295\n",
      "Epoch 5/10\n",
      "\u001b[1m644/644\u001b[0m \u001b[32m━━━━━━━━━━━━━━━━━━━━\u001b[0m\u001b[37m\u001b[0m \u001b[1m74s\u001b[0m 115ms/step - accuracy: 0.9831 - loss: 0.0660 - val_accuracy: 0.9327 - val_loss: 0.3374\n",
      "Epoch 6/10\n",
      "\u001b[1m644/644\u001b[0m \u001b[32m━━━━━━━━━━━━━━━━━━━━\u001b[0m\u001b[37m\u001b[0m \u001b[1m79s\u001b[0m 122ms/step - accuracy: 0.9869 - loss: 0.0475 - val_accuracy: 0.9283 - val_loss: 0.3728\n",
      "Epoch 7/10\n",
      "\u001b[1m644/644\u001b[0m \u001b[32m━━━━━━━━━━━━━━━━━━━━\u001b[0m\u001b[37m\u001b[0m \u001b[1m73s\u001b[0m 114ms/step - accuracy: 0.9915 - loss: 0.0306 - val_accuracy: 0.9328 - val_loss: 0.3667\n",
      "Epoch 8/10\n",
      "\u001b[1m644/644\u001b[0m \u001b[32m━━━━━━━━━━━━━━━━━━━━\u001b[0m\u001b[37m\u001b[0m \u001b[1m84s\u001b[0m 130ms/step - accuracy: 0.9917 - loss: 0.0296 - val_accuracy: 0.9052 - val_loss: 0.4935\n",
      "Epoch 9/10\n",
      "\u001b[1m644/644\u001b[0m \u001b[32m━━━━━━━━━━━━━━━━━━━━\u001b[0m\u001b[37m\u001b[0m \u001b[1m78s\u001b[0m 121ms/step - accuracy: 0.9913 - loss: 0.0331 - val_accuracy: 0.9373 - val_loss: 0.3786\n",
      "Epoch 10/10\n",
      "\u001b[1m644/644\u001b[0m \u001b[32m━━━━━━━━━━━━━━━━━━━━\u001b[0m\u001b[37m\u001b[0m \u001b[1m73s\u001b[0m 113ms/step - accuracy: 0.9922 - loss: 0.0290 - val_accuracy: 0.9387 - val_loss: 0.4607\n"
     ]
    }
   ],
   "source": [
    "history = model.fit(X_train, y_train, validation_data=(X_val, y_val), epochs=10, batch_size=32)"
   ]
  },
  {
   "cell_type": "code",
   "execution_count": 52,
   "metadata": {},
   "outputs": [
    {
     "name": "stdout",
     "output_type": "stream",
     "text": [
      "\u001b[1m425/425\u001b[0m \u001b[32m━━━━━━━━━━━━━━━━━━━━\u001b[0m\u001b[37m\u001b[0m \u001b[1m13s\u001b[0m 30ms/step - accuracy: 0.9311 - loss: 0.5023\n",
      "Test accuracy: 0.9323468804359436\n"
     ]
    }
   ],
   "source": [
    "test_loss, test_acc = model.evaluate(X_test, y_test)\n",
    "print(f\"Test accuracy: {test_acc}\")"
   ]
  },
  {
   "cell_type": "markdown",
   "metadata": {},
   "source": [
    "#### Confusuin Matrix"
   ]
  },
  {
   "cell_type": "code",
   "execution_count": 59,
   "metadata": {},
   "outputs": [],
   "source": [
    "from sklearn.metrics import confusion_matrix, classification_report\n",
    "import numpy as np"
   ]
  },
  {
   "cell_type": "code",
   "execution_count": 54,
   "metadata": {},
   "outputs": [
    {
     "name": "stdout",
     "output_type": "stream",
     "text": [
      "\u001b[1m425/425\u001b[0m \u001b[32m━━━━━━━━━━━━━━━━━━━━\u001b[0m\u001b[37m\u001b[0m \u001b[1m17s\u001b[0m 35ms/step\n"
     ]
    }
   ],
   "source": [
    "y_pred = model.predict(X_test)\n",
    "y_pred_classes = y_pred.argmax(axis=1)"
   ]
  },
  {
   "cell_type": "code",
   "execution_count": 64,
   "metadata": {},
   "outputs": [
    {
     "data": {
      "image/png": "[encoded data removed]",
      "text/plain": [
       "<Figure size 500x500 with 1 Axes>"
      ]
     },
     "metadata": {},
     "output_type": "display_data"
    },
    {
     "data": {
      "image/png": "[encoded data removed]",
      "text/plain": [
       "<Figure size 500x500 with 1 Axes>"
      ]
     },
     "metadata": {},
     "output_type": "display_data"
    },
    {
     "data": {
      "image/png": "[encoded data removed]",
      "text/plain": [
       "<Figure size 500x500 with 1 Axes>"
      ]
     },
     "metadata": {},
     "output_type": "display_data"
    }
   ],
   "source": [
    "class_names = ['Negative', 'Neutral', 'Positive']\n",
    "\n",
    "for i, class_name in enumerate(class_names):\n",
    "    # Ubah label menjadi biner untuk kelas saat ini\n",
    "    y_test_binary = np.where(y_test == i, 1, 0)\n",
    "    y_pred_binary = np.where(y_pred_classes == i, 1, 0)\n",
    "    \n",
    "    # Buat confusion matrix\n",
    "    cm = confusion_matrix(y_test_binary, y_pred_binary)\n",
    "    \n",
    "    # Visualisasi confusion matrix\n",
    "    plt.figure(figsize=(5,5))\n",
    "    sns.heatmap(cm, annot=True, fmt='d', cbar=False,\n",
    "                xticklabels=['Not ' + class_name, class_name],\n",
    "                yticklabels=['Not ' + class_name, class_name])\n",
    "    plt.xlabel('Predicted Label')\n",
    "    plt.ylabel('True Label')\n",
    "    plt.title(f'Confusion Matrix for {class_name} Class/Sentiment')\n",
    "    plt.show()"
   ]
  },
  {
   "cell_type": "code",
   "execution_count": null,
   "metadata": {},
   "outputs": [],
   "source": []
  }
 ],
 "metadata": {
  "kernelspec": {
   "display_name": "Python 3",
   "language": "python",
   "name": "python3"
  },
  "language_info": {
   "codemirror_mode": {
    "name": "ipython",
    "version": 3
   },
   "file_extension": ".py",
   "mimetype": "text/x-python",
   "name": "python",
   "nbconvert_exporter": "python",
   "pygments_lexer": "ipython3",
   "version": "3.11.9"
  }
 },
 "nbformat": 4,
 "nbformat_minor": 2
}
